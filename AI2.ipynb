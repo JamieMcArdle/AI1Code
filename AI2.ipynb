{
 "cells": [
  {
   "cell_type": "code",
   "execution_count": null,
   "id": "43e85eed-f298-40a9-92eb-e798ad32c6a1",
   "metadata": {},
   "outputs": [
    {
     "name": "stdout",
     "output_type": "stream",
     "text": [
      "For problem 'BPP 1', minimum number of bins needed: 182\n",
      "For problem 'BPP 2', minimum number of bins needed: 191\n"
     ]
    }
   ],
   "source": [
    "import random\n",
    "\n",
    "POPULATION_SIZE = 100\n",
    "NUM_GENERATIONS = 1000\n",
    "\n",
    "problem_instances = [\n",
    "    (\"BPP 1\", 46, 1000, [200, 199, 198, 197, 194, 193, 192, 191, 190, 189, 188, 187, 186, 185, 184, 183, 182, 181, 180, 179, 178, 177, 175, 174, 173, 172, 171, 170, 169, 167, 165, 164, 163, 162, 161, 160, 159, 158, 157, 156, 155, 154, 153, 152, 151, 150]),\n",
    "    (\"BPP 2\", 47, 1000, [200, 199, 198, 197, 196, 195, 194, 193, 191, 190, 189, 188, 187, 186, 185, 184, 183, 182, 181, 180, 179, 178, 176, 175, 174, 173, 172, 171, 170, 169, 168, 167, 165, 164, 163, 162, 160, 159, 158, 157, 156, 155, 154, 153, 152, 151, 150]),\n",
    "    (\"BPP 3\", 44, 1000, [200, 199, 197, 196, 193, 192, 191, 190, 189, 188, 187, 185, 183, 182, 181, 180, 179, 178, 177, 176, 175, 174, 173, 171, 170, 169, 168, 167, 166, 165, 163, 162, 161, 160, 159, 158, 157, 156, 155, 154, 153, 152, 151, 150]),\n",
    "    (\"BPP 4\", 42, 1000, [200, 199, 198, 197, 195, 193, 192, 188, 187, 186, 185, 184, 183, 182, 181, 180, 179, 178, 177, 176, 175, 173, 172, 170, 169, 168, 167, 165, 164, 163, 162, 161, 160, 159, 158, 157, 155, 154, 153, 152, 151, 150]),\n",
    "    (\"BPP 5\", 44, 1000, [200, 199, 198, 197, 196, 195, 194, 193, 192, 191, 190, 188, 187, 186, 185, 184, 183, 182, 181, 180, 178, 177, 176, 174, 173, 172, 171, 168, 167, 165, 164, 163, 162, 161, 160, 159, 158, 157, 156, 155, 154, 153, 151, 150])\n",
    "]\n",
    "\n",
    "def create_individual(item_weights, bin_capacity):\n",
    "    individual = []\n",
    "    bin = []\n",
    "    current_capacity = bin_capacity\n",
    "    for weight, count in item_weights.items():\n",
    "        for _ in range(count):\n",
    "            if weight <= current_capacity:\n",
    "                bin.append(weight)\n",
    "                current_capacity -= weight\n",
    "            else:\n",
    "                individual.append(bin)\n",
    "                bin = [weight]\n",
    "                current_capacity = bin_capacity - weight\n",
    "    if bin:\n",
    "        individual.append(bin)\n",
    "    return individual\n",
    "\n",
    "def crossover(parent1, parent2):\n",
    "    child1 = parent1[:]\n",
    "    child2 = parent2[:]\n",
    "    crossover_point = random.randint(1, min(len(child1), len(child2)) - 1)\n",
    "    child1[crossover_point:], child2[crossover_point:] = child2[crossover_point:], child1[crossover_point:]\n",
    "    return child1, child2\n",
    "\n",
    "def mutation(individual, item_weights, bin_capacity):\n",
    "    mutated_individual = individual[:]\n",
    "    if mutated_individual:\n",
    "        bin_to_mutate = random.choice(range(len(mutated_individual)))\n",
    "        # Remove one item from the selected bin\n",
    "        if mutated_individual[bin_to_mutate]:\n",
    "            item_to_move = random.choice(mutated_individual[bin_to_mutate])\n",
    "            mutated_individual[bin_to_mutate].remove(item_to_move)\n",
    "            # Move the item to another bin or create a new bin\n",
    "            for bin_idx in range(len(mutated_individual)):\n",
    "                if sum(mutated_individual[bin_idx]) + item_to_move <= bin_capacity:\n",
    "                    mutated_individual[bin_idx].append(item_to_move)\n",
    "                    break\n",
    "            else:\n",
    "                mutated_individual.append([item_to_move])\n",
    "    return mutated_individual\n",
    "\n",
    "def fitness(individual):\n",
    "    return len(individual)\n",
    "\n",
    "def genetic_algorithm(item_weights, bin_capacity):\n",
    "    population = [create_individual(item_weights, bin_capacity) for _ in range(POPULATION_SIZE)]\n",
    "    for _ in range(NUM_GENERATIONS):\n",
    "        population_fitness = [fitness(individual) for individual in population]\n",
    "\n",
    "        selected_parents = random.choices(population, weights=population_fitness, k=POPULATION_SIZE)\n",
    "\n",
    "        new_population = []\n",
    "        for i in range(0, POPULATION_SIZE, 2):\n",
    "            child1, child2 = crossover(selected_parents[i], selected_parents[i+1])\n",
    "            new_population.extend([mutation(child1, item_weights, bin_capacity), mutation(child2, item_weights, bin_capacity)])\n",
    "\n",
    "        population = new_population\n",
    "\n",
    "    best_individual = min(population, key=fitness)\n",
    "    min_bins_used = fitness(best_individual)\n",
    "    return min_bins_used\n",
    "\n",
    "for problem_name, num_item_weights, bin_capacity, item_weights in problem_instances:\n",
    "    min_bins_used = genetic_algorithm(dict(zip(range(1, num_item_weights + 1), item_weights)), bin_capacity)\n",
    "    print(f\"For problem '{problem_name}', minimum number of bins needed: {min_bins_used}\")\n"
   ]
  },
  {
   "cell_type": "code",
   "execution_count": null,
   "id": "dabe7534-3c93-477b-bb66-2ab6dd526681",
   "metadata": {},
   "outputs": [],
   "source": []
  }
 ],
 "metadata": {
  "kernelspec": {
   "display_name": "Python 3 (ipykernel)",
   "language": "python",
   "name": "python3"
  },
  "language_info": {
   "codemirror_mode": {
    "name": "ipython",
    "version": 3
   },
   "file_extension": ".py",
   "mimetype": "text/x-python",
   "name": "python",
   "nbconvert_exporter": "python",
   "pygments_lexer": "ipython3",
   "version": "3.9.6"
  }
 },
 "nbformat": 4,
 "nbformat_minor": 5
}
